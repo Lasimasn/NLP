{
 "cells": [
  {
   "cell_type": "code",
   "execution_count": 1,
   "id": "f898a988",
   "metadata": {},
   "outputs": [
    {
     "name": "stderr",
     "output_type": "stream",
     "text": [
      "C:\\Users\\lnazr\\miniconda3\\lib\\site-packages\\numpy\\_distributor_init.py:30: UserWarning: loaded more than 1 DLL from .libs:\n",
      "C:\\Users\\lnazr\\miniconda3\\lib\\site-packages\\numpy\\.libs\\libopenblas.EL2C6PLE4ZYW3ECEVIV3OXXGRN2NRFM2.gfortran-win_amd64.dll\n",
      "C:\\Users\\lnazr\\miniconda3\\lib\\site-packages\\numpy\\.libs\\libopenblas.PYQHXLVVQ7VESDPUVUADXEVJOBGHJPAY.gfortran-win_amd64.dll\n",
      "  warnings.warn(\"loaded more than 1 DLL from .libs:\"\n",
      "[nltk_data] Downloading package punkt to\n",
      "[nltk_data]     C:\\Users\\lnazr\\AppData\\Roaming\\nltk_data...\n",
      "[nltk_data]   Package punkt is already up-to-date!\n",
      "[nltk_data] Downloading package stopwords to\n",
      "[nltk_data]     C:\\Users\\lnazr\\AppData\\Roaming\\nltk_data...\n",
      "[nltk_data]   Package stopwords is already up-to-date!\n"
     ]
    },
    {
     "data": {
      "text/plain": [
       "True"
      ]
     },
     "execution_count": 1,
     "metadata": {},
     "output_type": "execute_result"
    }
   ],
   "source": [
    "import nltk\n",
    "import re\n",
    "nltk.download('punkt')\n",
    "nltk.download('stopwords')"
   ]
  },
  {
   "cell_type": "code",
   "execution_count": 4,
   "id": "f64a0eae",
   "metadata": {},
   "outputs": [
    {
     "name": "stderr",
     "output_type": "stream",
     "text": [
      "WARNING: Ignoring invalid distribution -atplotlib (c:\\users\\lnazr\\miniconda3\\lib\\site-packages)\n",
      "WARNING: Ignoring invalid distribution -atplotlib (c:\\users\\lnazr\\miniconda3\\lib\\site-packages)\n",
      "WARNING: Ignoring invalid distribution -atplotlib (c:\\users\\lnazr\\miniconda3\\lib\\site-packages)\n",
      "WARNING: Ignoring invalid distribution -atplotlib (c:\\users\\lnazr\\miniconda3\\lib\\site-packages)\n",
      "WARNING: Ignoring invalid distribution -atplotlib (c:\\users\\lnazr\\miniconda3\\lib\\site-packages)\n",
      "WARNING: Ignoring invalid distribution -atplotlib (c:\\users\\lnazr\\miniconda3\\lib\\site-packages)\n"
     ]
    },
    {
     "name": "stdout",
     "output_type": "stream",
     "text": [
      "Collecting gensim\n",
      "  Downloading gensim-4.2.0-cp38-cp38-win_amd64.whl (24.0 MB)\n",
      "Requirement already satisfied: Cython==0.29.28 in c:\\users\\lnazr\\miniconda3\\lib\\site-packages (from gensim) (0.29.28)\n",
      "Collecting smart-open>=1.8.1\n",
      "  Downloading smart_open-6.0.0-py3-none-any.whl (58 kB)\n",
      "Requirement already satisfied: numpy>=1.17.0 in c:\\users\\lnazr\\miniconda3\\lib\\site-packages (from gensim) (1.22.4)\n",
      "Requirement already satisfied: scipy>=0.18.1 in c:\\users\\lnazr\\miniconda3\\lib\\site-packages (from gensim) (1.7.3)\n",
      "Installing collected packages: smart-open, gensim\n",
      "Successfully installed gensim-4.2.0 smart-open-6.0.0\n"
     ]
    }
   ],
   "source": [
    "!python -m pip install -U gensim"
   ]
  },
  {
   "cell_type": "code",
   "execution_count": 5,
   "id": "770bb809",
   "metadata": {},
   "outputs": [],
   "source": [
    "from gensim.models import Word2Vec\n",
    "from nltk.corpus import stopwords"
   ]
  },
  {
   "cell_type": "code",
   "execution_count": 6,
   "id": "166c7e64",
   "metadata": {},
   "outputs": [],
   "source": [
    "para= \"I have three visions for India. In 3000 years of our history people from all over the world have come and invaded us, captured our lands, conquered our minds. From Alexander onwards the Greeks, the Turks, the Moguls, the Portuguese, the British, the French, the Dutch, all of them came and looted us, took over what was ours. Yet we have not done this to any other nation. We have not conquered anyone. We have not grabbed their land, their culture and their history and tried to enforce our way of life on them. Why? Because we respect the freedom of others. That is why my FIRST VISION is that of FREEDOM. I believe that India got its first vision of this in 1857, when we started the war of Independence. It is this freedom that we must protect and nurture and build on. If we are not free, no one will respect us. We have 10 percent growth rate in most areas. Our poverty levels are falling. Our achievements are being globally recognised today. Yet we lack the self-confidence to see ourselves as a developed nation, self-reliant and self-assured. Isn’t this incorrect? MY SECOND VISION for India is DEVELOPMENT. For fifty years we have been a developing nation. It is time we see ourselves as a developed nation. We are among top five nations in the world in terms of GDP. I have a THIRD VISION. India must stand up to the world. Because I believe that unless India stands up to the world, no one will respect us. Only strength respects strength. We must be strong not only as a military power but also as an economic power. Both must go hand-in-hand. My good fortune was to have worked with three great minds. Dr.Vikram Sarabhai, of the Dept. of Space, Professor Satish Dhawan, who succeeded him and Dr. Brahm Prakash, father of nuclear material. I was lucky to have worked with all three of them closely and consider this the great opportunity of my life. I was in Hyderabad giving this lecture, when a 14 year-old girl asked me for my autograph. I asked her what her goal in life is. She replied: I want to live in a developed India. For her, you and I will have to build this developed India. You must proclaim India is not an underdeveloped nation; it is a highly developed nation. You say that our government is inefficient. You say that our laws are too old. You say that the municipality does not pick up the garbage. You say that the phones don’t work, the railways are a joke, the airline is the worst in the world, and mails never reach their destination. You say that our country has been fed to the dogs and is the absolute pits. You say, say and say. What do you do about it? Dear Indians, I am echoing J.F.Kennedy’s words to his fellow Americans to relate to Indians ……. “ASK WHAT WE CAN DO FOR INDIA AND DO WHAT HAS TO BE DONE TO MAKE INDIA WHAT AMERICA AND OTHER WESTERN COUNTRIES ARE TODAY.\""
   ]
  },
  {
   "cell_type": "code",
   "execution_count": 33,
   "id": "26402232",
   "metadata": {},
   "outputs": [],
   "source": [
    "#Data Pre-processing\n",
    "text=re.sub(r'\\[[0-9]*\\]',' ',para)\n",
    "text = re.sub(r'\\s+',' ',text)\n",
    "text = text.lower()\n",
    "text = re.sub(r'\\d',' ',text)\n",
    "text = re.sub(r'\\s+',' ',text)"
   ]
  },
  {
   "cell_type": "code",
   "execution_count": 34,
   "id": "e45742f5",
   "metadata": {},
   "outputs": [
    {
     "data": {
      "text/plain": [
       "'i have three visions for india. in years of our history people from all over the world have come and invaded us, captured our lands, conquered our minds. from alexander onwards the greeks, the turks, the moguls, the portuguese, the british, the french, the dutch, all of them came and looted us, took over what was ours. yet we have not done this to any other nation. we have not conquered anyone. we have not grabbed their land, their culture and their history and tried to enforce our way of life on them. why? because we respect the freedom of others. that is why my first vision is that of freedom. i believe that india got its first vision of this in , when we started the war of independence. it is this freedom that we must protect and nurture and build on. if we are not free, no one will respect us. we have percent growth rate in most areas. our poverty levels are falling. our achievements are being globally recognised today. yet we lack the self-confidence to see ourselves as a developed nation, self-reliant and self-assured. isn’t this incorrect? my second vision for india is development. for fifty years we have been a developing nation. it is time we see ourselves as a developed nation. we are among top five nations in the world in terms of gdp. i have a third vision. india must stand up to the world. because i believe that unless india stands up to the world, no one will respect us. only strength respects strength. we must be strong not only as a military power but also as an economic power. both must go hand-in-hand. my good fortune was to have worked with three great minds. dr.vikram sarabhai, of the dept. of space, professor satish dhawan, who succeeded him and dr. brahm prakash, father of nuclear material. i was lucky to have worked with all three of them closely and consider this the great opportunity of my life. i was in hyderabad giving this lecture, when a year-old girl asked me for my autograph. i asked her what her goal in life is. she replied: i want to live in a developed india. for her, you and i will have to build this developed india. you must proclaim india is not an underdeveloped nation; it is a highly developed nation. you say that our government is inefficient. you say that our laws are too old. you say that the municipality does not pick up the garbage. you say that the phones don’t work, the railways are a joke, the airline is the worst in the world, and mails never reach their destination. you say that our country has been fed to the dogs and is the absolute pits. you say, say and say. what do you do about it? dear indians, i am echoing j.f.kennedy’s words to his fellow americans to relate to indians ……. “ask what we can do for india and do what has to be done to make india what america and other western countries are today.'"
      ]
     },
     "execution_count": 34,
     "metadata": {},
     "output_type": "execute_result"
    }
   ],
   "source": [
    "text"
   ]
  },
  {
   "cell_type": "code",
   "execution_count": 43,
   "id": "7d865066",
   "metadata": {},
   "outputs": [],
   "source": [
    "sentences=nltk.sent_tokenize(text)\n",
    "sentences=[nltk.word_tokenize(sentence) for sentence in sentences]"
   ]
  },
  {
   "cell_type": "code",
   "execution_count": 44,
   "id": "13038bdd",
   "metadata": {},
   "outputs": [],
   "source": [
    "for i in range(len(sentences)):\n",
    "    sentences[i]=[word for word in sentences[i] if word not in stopwords.words('english') ]\n",
    "    "
   ]
  },
  {
   "cell_type": "code",
   "execution_count": 45,
   "id": "ffc0d78f",
   "metadata": {},
   "outputs": [],
   "source": [
    "model = Word2Vec(sentences,min_count=1)"
   ]
  },
  {
   "cell_type": "code",
   "execution_count": 46,
   "id": "e965f3de",
   "metadata": {},
   "outputs": [],
   "source": [
    "words = list(model.wv.index_to_key)"
   ]
  },
  {
   "cell_type": "code",
   "execution_count": 47,
   "id": "bb715b3e",
   "metadata": {},
   "outputs": [
    {
     "data": {
      "text/plain": [
       "['.',\n",
       " ',',\n",
       " 'india',\n",
       " 'say',\n",
       " 'nation',\n",
       " 'developed',\n",
       " 'must',\n",
       " 'world',\n",
       " 'vision',\n",
       " 'us',\n",
       " 'respect',\n",
       " '’',\n",
       " 'life',\n",
       " '?',\n",
       " 'three',\n",
       " 'freedom',\n",
       " 'see',\n",
       " 'first',\n",
       " 'asked',\n",
       " 'today',\n",
       " 'believe',\n",
       " 'done',\n",
       " 'yet',\n",
       " 'one',\n",
       " 'great',\n",
       " 'build',\n",
       " 'worked',\n",
       " 'strength',\n",
       " 'indians',\n",
       " 'power',\n",
       " 'years',\n",
       " 'history',\n",
       " 'minds',\n",
       " 'conquered',\n",
       " 'top',\n",
       " 'percent',\n",
       " 'growth',\n",
       " 'rate',\n",
       " 'areas',\n",
       " 'among',\n",
       " 'time',\n",
       " 'developing',\n",
       " 'poverty',\n",
       " 'self-confidence',\n",
       " 'fifty',\n",
       " 'self-reliant',\n",
       " 'levels',\n",
       " 'falling',\n",
       " 'achievements',\n",
       " 'globally',\n",
       " 'recognised',\n",
       " 'development',\n",
       " 'lack',\n",
       " 'second',\n",
       " 'incorrect',\n",
       " 'self-assured',\n",
       " 'free',\n",
       " 'others',\n",
       " 'nurture',\n",
       " 'dutch',\n",
       " 'visions',\n",
       " 'people',\n",
       " 'come',\n",
       " 'invaded',\n",
       " 'captured',\n",
       " 'lands',\n",
       " 'alexander',\n",
       " 'onwards',\n",
       " 'greeks',\n",
       " 'turks',\n",
       " 'moguls',\n",
       " 'portuguese',\n",
       " 'british',\n",
       " 'french',\n",
       " 'came',\n",
       " 'protect',\n",
       " 'looted',\n",
       " 'took',\n",
       " 'anyone',\n",
       " 'grabbed',\n",
       " 'land',\n",
       " 'culture',\n",
       " 'tried',\n",
       " 'enforce',\n",
       " 'way',\n",
       " 'nations',\n",
       " 'got',\n",
       " 'started',\n",
       " 'war',\n",
       " 'independence',\n",
       " 'five',\n",
       " 'countries',\n",
       " 'terms',\n",
       " 'never',\n",
       " 'worst',\n",
       " 'airline',\n",
       " 'joke',\n",
       " 'railways',\n",
       " 'work',\n",
       " 'phones',\n",
       " 'garbage',\n",
       " 'pick',\n",
       " 'municipality',\n",
       " 'old',\n",
       " 'laws',\n",
       " 'inefficient',\n",
       " 'government',\n",
       " 'highly',\n",
       " ';',\n",
       " 'underdeveloped',\n",
       " 'proclaim',\n",
       " 'mails',\n",
       " 'reach',\n",
       " 'want',\n",
       " 'destination',\n",
       " 'america',\n",
       " 'make',\n",
       " 'ask',\n",
       " '“',\n",
       " '……',\n",
       " 'relate',\n",
       " 'americans',\n",
       " 'fellow',\n",
       " 'words',\n",
       " 'j.f.kennedy',\n",
       " 'echoing',\n",
       " 'dear',\n",
       " 'pits',\n",
       " 'absolute',\n",
       " 'dogs',\n",
       " 'fed',\n",
       " 'country',\n",
       " 'live',\n",
       " ':',\n",
       " 'gdp',\n",
       " 'satish',\n",
       " 'space',\n",
       " 'dept',\n",
       " 'sarabhai',\n",
       " 'dr.vikram',\n",
       " 'fortune',\n",
       " 'good',\n",
       " 'hand-in-hand',\n",
       " 'go',\n",
       " 'economic',\n",
       " 'also',\n",
       " 'military',\n",
       " 'strong',\n",
       " 'respects',\n",
       " 'stands',\n",
       " 'unless',\n",
       " 'western',\n",
       " 'third',\n",
       " 'professor',\n",
       " 'dhawan',\n",
       " 'replied',\n",
       " 'succeeded',\n",
       " 'goal',\n",
       " 'autograph',\n",
       " 'girl',\n",
       " 'year-old',\n",
       " 'lecture',\n",
       " 'giving',\n",
       " 'hyderabad',\n",
       " 'opportunity',\n",
       " 'consider',\n",
       " 'closely',\n",
       " 'lucky',\n",
       " 'material',\n",
       " 'nuclear',\n",
       " 'father',\n",
       " 'prakash',\n",
       " 'brahm',\n",
       " 'dr.',\n",
       " 'stand']"
      ]
     },
     "execution_count": 47,
     "metadata": {},
     "output_type": "execute_result"
    }
   ],
   "source": [
    "words"
   ]
  },
  {
   "cell_type": "code",
   "execution_count": 48,
   "id": "1e1cb9e3",
   "metadata": {},
   "outputs": [],
   "source": [
    "vector=model.wv['war']"
   ]
  },
  {
   "cell_type": "code",
   "execution_count": 49,
   "id": "f3b0c60f",
   "metadata": {},
   "outputs": [
    {
     "data": {
      "text/plain": [
       "array([-4.47987346e-03, -1.08287684e-04,  4.46465937e-03, -9.91860498e-03,\n",
       "        3.80216981e-03, -1.64284068e-03, -5.86501975e-03,  1.00087468e-02,\n",
       "       -3.17651569e-03, -8.97729676e-03, -6.14098972e-03, -6.67583244e-03,\n",
       "       -1.00371498e-03, -9.61850025e-03, -5.98955993e-03,  6.27771311e-04,\n",
       "        8.22398462e-04, -4.74877097e-03, -2.98026903e-03, -9.11495276e-03,\n",
       "        3.95679800e-03, -8.11067410e-03, -2.72156321e-03, -8.49538855e-03,\n",
       "       -3.39212967e-03,  3.47208255e-03,  1.64131483e-03, -7.54848402e-03,\n",
       "        9.24742781e-03,  9.12752748e-03,  9.05215461e-03,  8.91170421e-05,\n",
       "        4.16512275e-03, -3.90771590e-03, -1.27934990e-03,  8.15756340e-03,\n",
       "       -6.07537292e-03,  5.68072591e-03, -6.83129393e-03, -3.13753169e-03,\n",
       "       -5.26343053e-03,  1.63964671e-03,  9.84269101e-03,  2.60246638e-03,\n",
       "       -1.35203870e-03,  8.70838854e-03, -3.97494016e-03,  9.30908043e-03,\n",
       "       -6.84343232e-03,  4.64694435e-03, -4.92870924e-04, -6.86520664e-03,\n",
       "        3.97455925e-03,  1.85669772e-03, -1.52410869e-03, -8.32289737e-03,\n",
       "       -3.18525382e-03, -1.36241119e-03, -2.33384874e-03,  5.23359841e-03,\n",
       "        7.36602640e-04,  6.40791049e-03, -4.09092940e-03, -2.79846136e-03,\n",
       "       -3.80718196e-03, -4.28931322e-03,  2.20024283e-03,  4.59093414e-03,\n",
       "        1.84017466e-04,  8.24892614e-03,  2.29038065e-03,  6.56793220e-03,\n",
       "        6.44043786e-03,  3.75394686e-03,  5.95519971e-03, -2.63792579e-03,\n",
       "        5.14295371e-03, -3.64362309e-03, -5.91046549e-03,  5.04243374e-03,\n",
       "       -4.18770919e-03,  3.18454672e-03, -6.78537181e-03, -9.62698366e-03,\n",
       "        8.14062729e-03,  2.00586437e-04,  1.27459224e-03,  9.58691258e-03,\n",
       "       -8.02994240e-03, -4.12112521e-03,  2.36070016e-03,  9.29406378e-03,\n",
       "        3.18143022e-04,  6.19892357e-03,  1.45626848e-03,  1.08312210e-03,\n",
       "       -9.82663874e-03, -6.79875398e-03,  4.86735441e-03, -2.57027423e-04],\n",
       "      dtype=float32)"
      ]
     },
     "execution_count": 49,
     "metadata": {},
     "output_type": "execute_result"
    }
   ],
   "source": [
    "vector"
   ]
  },
  {
   "cell_type": "code",
   "execution_count": 54,
   "id": "47685ba0",
   "metadata": {},
   "outputs": [],
   "source": [
    "# Most similar words\n",
    "similar = model.wv.most_similar('india')"
   ]
  },
  {
   "cell_type": "code",
   "execution_count": 53,
   "id": "4b88f9bf",
   "metadata": {},
   "outputs": [
    {
     "data": {
      "text/plain": [
       "[('greeks', 0.371374249458313),\n",
       " ('developing', 0.21269327402114868),\n",
       " ('dept', 0.20649978518486023),\n",
       " ('lack', 0.20262713730335236),\n",
       " ('vision', 0.20200222730636597),\n",
       " ('strong', 0.19705741107463837),\n",
       " ('way', 0.18927985429763794),\n",
       " ('railways', 0.18309955298900604),\n",
       " ('’', 0.17596818506717682),\n",
       " ('power', 0.17209438979625702)]"
      ]
     },
     "execution_count": 53,
     "metadata": {},
     "output_type": "execute_result"
    }
   ],
   "source": [
    "similar"
   ]
  },
  {
   "cell_type": "code",
   "execution_count": null,
   "id": "f1476e43",
   "metadata": {},
   "outputs": [],
   "source": []
  }
 ],
 "metadata": {
  "kernelspec": {
   "display_name": "Python 3 (ipykernel)",
   "language": "python",
   "name": "python3"
  },
  "language_info": {
   "codemirror_mode": {
    "name": "ipython",
    "version": 3
   },
   "file_extension": ".py",
   "mimetype": "text/x-python",
   "name": "python",
   "nbconvert_exporter": "python",
   "pygments_lexer": "ipython3",
   "version": "3.8.13"
  }
 },
 "nbformat": 4,
 "nbformat_minor": 5
}
